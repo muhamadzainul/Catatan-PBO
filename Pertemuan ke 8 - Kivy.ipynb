{
 "cells": [
  {
   "cell_type": "markdown",
   "metadata": {},
   "source": [
    "# Kivy"
   ]
  },
  {
   "cell_type": "markdown",
   "metadata": {},
   "source": [
    "Kivy adalah salah satu library pyhon yang dapat membuat aplikasi Android, aplikasi mobile secara multiplatform menggunakan bahasa pemrograman Python."
   ]
  },
  {
   "cell_type": "markdown",
   "metadata": {},
   "source": [
    "##### Instalasi Kivy"
   ]
  },
  {
   "cell_type": "markdown",
   "metadata": {},
   "source": [
    "1. Buka CMD, dan pastikan terhubung dengan internet\n",
    "2. pip install Kivy\n",
    "3. Tunggu Proses Instalasi hingga selesai"
   ]
  },
  {
   "cell_type": "markdown",
   "metadata": {},
   "source": [
    "##### Untuk Menggunakan Library Ini lakukan Perintah :"
   ]
  },
  {
   "cell_type": "code",
   "execution_count": null,
   "metadata": {},
   "outputs": [],
   "source": [
    "import kivy\n",
    "from kivy.app import App"
   ]
  },
  {
   "cell_type": "markdown",
   "metadata": {},
   "source": [
    "##### Contoh Program"
   ]
  },
  {
   "cell_type": "code",
   "execution_count": null,
   "metadata": {},
   "outputs": [],
   "source": [
    "'''\n",
    "Application example using build() + return\n",
    "==========================================\n",
    "\n",
    "An application can be built if you return a widget on build(), or if you set\n",
    "self.root.\n",
    "'''\n",
    "\n",
    "import kivy\n",
    "kivy.require('1.0.7')\n",
    "\n",
    "from kivy.app import App\n",
    "from kivy.uix.button import Button\n",
    "\n",
    "\n",
    "class TestApp(App):\n",
    "\n",
    "    def build(self):\n",
    "        # return a Button() as a root widget\n",
    "        return Button(text='hello world')\n",
    "\n",
    "\n",
    "if __name__ == '__main__':\n",
    "    TestApp().run()"
   ]
  }
 ],
 "metadata": {
  "kernelspec": {
   "display_name": "Python 2",
   "language": "python",
   "name": "python2"
  },
  "language_info": {
   "codemirror_mode": {
    "name": "ipython",
    "version": 2
   },
   "file_extension": ".py",
   "mimetype": "text/x-python",
   "name": "python",
   "nbconvert_exporter": "python",
   "pygments_lexer": "ipython2",
   "version": "2.7.15"
  }
 },
 "nbformat": 4,
 "nbformat_minor": 2
}
